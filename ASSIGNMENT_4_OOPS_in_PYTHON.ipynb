{
  "nbformat": 4,
  "nbformat_minor": 0,
  "metadata": {
    "colab": {
      "provenance": []
    },
    "kernelspec": {
      "name": "python3",
      "display_name": "Python 3"
    },
    "language_info": {
      "name": "python"
    }
  },
  "cells": [
    {
      "cell_type": "markdown",
      "source": [
        "***THEORETICAL QUESTIONS***"
      ],
      "metadata": {
        "id": "t2NFYdBMJ542"
      }
    },
    {
      "cell_type": "markdown",
      "source": [
        " 1. What is Object-Oriented Programming (OOP) ?\n",
        "    \n",
        "       OOPs stands for Object-Oriented Programming System.\n",
        "    \n",
        "    - It is a programming paradigm based on the concept of \"objects\", which can contain data (attributes) and code (methods)\n",
        "\n",
        "\n",
        " 2. What is a class in OOP ?\n",
        "    \n",
        "    In Object-Oriented Programming (OOP), a class is a blueprint or template for creating objects (instances). It defines a set of attributes (data) and methods (functions) that the created objects will have.\n",
        "\n",
        "\n",
        "\n",
        " 3. What is an object in OOP ?\n",
        "\n",
        "    In Object-Oriented Programming (OOP), an object is an instance of a class. While a class defines the structure and behavior (blueprint), the object is the actual implementation — something you can use and interact with.\n",
        "\n",
        "\n",
        "\n",
        " 4. What is the difference between abstraction and encapsulation ?\n",
        "     \n",
        "    - Abstraction :  Hides complex implementation details and shows only essential features.\n",
        "\n",
        "    - Encapsulation : Hides the internal state/data of an object and restricts direct access\n",
        "\n",
        "    \n",
        "\n",
        " 5. What are dunder methods in Python ?\n",
        "\n",
        "    Dunder methods (\"double underscore methods\") are special methods in Python that have names starting and ending with double underscores, like __init__, __str__, __add__, etc.\n",
        "\n",
        "\n",
        " 6. Explain the concept of inheritance in OOP?\n",
        "    \n",
        "    Inheritance is one of the core principles of Object-Oriented Programming (OOP). It allows a class (child or derived class) to inherit the properties and behaviors (methods) of another class ( parent or base class).\n",
        "      - This promotes code reuse, modularity, and hierarchical classification.  \n",
        "\n",
        "\n",
        " 7. What is polymorphism in OOP?\n",
        "    \n",
        "    Polymorphism means “many forms.”\n",
        "    - In Object-Oriented Programming (OOP), polymorphism allows different classes to be treated as if they were the same class, because they implement the same methods.\n",
        "\n",
        "   - It enables one interface (method name) to be used for different underlying forms (data types or classes).\n",
        "\n",
        " 8. How is encapsulation achieved in Python?\n",
        "    \n",
        "    Encapsulation in Python is the process of hiding internal data (attributes) and allowing controlled access via methods. This protects the internal state of the object from unintended changes.\n",
        "    - Types of encapsulation methods : Public, Private and Protected.\n",
        "\n",
        "\n",
        " 9. What is a constructor in Python?\n",
        "    \n",
        "    A constructor in Python is a special method that is automatically called when an object is created.\n",
        "     - Its main job is to initialize the attributes of the object.\n",
        "\n",
        "     - In Python, the constructor method is named __init__().\n",
        "\n",
        "     syntax:\n",
        "         class ClassName:\n",
        "           def __init__(self, parameters):\n",
        "        self.attribute = parameters\n",
        "\n",
        "\n",
        "\n",
        " 10. What are class and static methods in Python?\n",
        "\n",
        "    Class Method (@classmethod):\n",
        "      - A class method is a method that operates on the class itself, not the object. It takes cls as the first parameter (not self).\n",
        "\n",
        "    Static Method (@staticmethod):\n",
        "      - A static method doesn't receive self or cls as a parameter. It behaves like a regular function, but is contained within the class for organizational purposes.\n",
        "\n",
        "\n",
        "\n",
        " 11. What is method overloading in Python?\n",
        "     \n",
        "     Method Overloading means defining multiple methods with the same name but different parameters (number or type) within a class.\n",
        "\n",
        "     - Python does NOT support traditional method overloading directly.\n",
        "     - If you define a method multiple times with the same name, the last definition will overwrite the previous ones.\n",
        "\n",
        "\n",
        " 12. What is method overriding in OOP?\n",
        "     \n",
        "     Method Overriding occurs when a child (subclass) defines a method with the same name and signature as a method in its parent (superclass).When the method is called from an object of the child class, the child’s version is executed, overriding the parent’s method.\n",
        "\n",
        "\n",
        " 13. What is a property decorator in Python?\n",
        "     \n",
        "     The @property decorator in Python is used to define a method as a property, so you can access it like an attribute, but behind the scenes, it runs like a method.\n",
        "\n",
        " 14. Why is polymorphism important in OOP?\n",
        "     - Code Reusability : \tSame function can work with different types of objects.\n",
        "     - Simplifies Code : \tEliminates need for complex conditionals.\n",
        "     - Flexibility and Scalability:\tYou can add new classes with the same method names without changing existing code.\n",
        "\n",
        "\n",
        " 15. What is an abstract class in Python?\n",
        "     \n",
        "     An abstract class in Python is a class that cannot be instantiated directly. It is designed to be inherited by other classes, and it can define abstract methods that must be implemented by its subclasses.\n",
        "     - Python provides support for abstract classes through the abc module (abc = Abstract Base Class).\n",
        "\n",
        "\n",
        "\n",
        " 16. What are the advantages of OOP?\n",
        "\n",
        "      - Modularity : Code is divided into small, manageable, and self-contained units (classes).Each class can be developed, tested, and debugged independently.\n",
        "\n",
        "      - Reusability : You can reuse existing classes through inheritance, reducing code duplication.\n",
        "\n",
        "         - Example: A Vehicle class can be inherited by Car, Bike, Truck, etc.\n",
        "\n",
        "      - Encapsulation : Internal object details (data) are hidden from outside interference.You interact with an object only via its methods, which helps protect data.\n",
        "\n",
        "      - Abstraction : Focuses only on relevant details, hiding unnecessary complexities.\n",
        "          - Example: You use .save() on a file object without knowing how it works internally.\n",
        "\n",
        "      - Polymorphism : The same method name can behave differently on different classes.Enables writing generic code that works across various object types.\n",
        "\n",
        "     - Easy Maintenance and Scalability : Changes to one class typically don’t affect others if well-designed.Easier to update, extend, or scale the application as requirements grow.\n",
        "\n",
        "     - Improved Productivity : Better structure and clarity lead to faster development and fewer bugs.Classes can be shared across multiple projects and teams.\n",
        "\n",
        "\n",
        "\n",
        " 17. What is multiple inheritance in Python?\n",
        "     \n",
        "     Multiple inheritance is a feature in Python where a class can inherit from more than one parent class. This means the child class can access attributes and methods from multiple base classes.\n",
        "\n",
        "\n",
        " 18. What is the difference between a class variable and an instance variable?\n",
        "     \n",
        "     - Class Variable :\n",
        "         - Shared across all instances of the class.\n",
        "\n",
        "         - Defined outside any method inside the class.\n",
        "\n",
        "         - Changing the class variable affects all objects (unless overridden in an instance).\n",
        "\n",
        "       - Instance Variable :\n",
        "           - Unique to each object (instance of a class).\n",
        "\n",
        "           - Defined using self inside methods like __init__().\n",
        "\n",
        "           - Each instance has its own copy of instance variables.\n",
        "\n",
        "\n",
        " 19. Explain the purpose of ‘’__str__’ and ‘__repr__’ ‘ methods in Python?\n",
        "     \n",
        "     - Both __str__ and __repr__ are dunder  used to define how objects are represented as strings in Python.\n",
        "\n",
        "     - __str__ : User-Friendly String Representation\n",
        "          - Called by str(obj) or print(obj)\n",
        "\n",
        "          - Should return a readable, nicely formatted string\n",
        "\n",
        "          - Meant for end users.\n",
        "\n",
        "     -  __repr__ :  Developer-Friendly Representation\n",
        "         - Called by repr(obj) or when you type the object in an interpreter\n",
        "\n",
        "         - Should return a string that can be used to recreate the object (ideally)\n",
        "\n",
        "         - Meant for debugging and development\n",
        "\n",
        " 20. What is the significance of the ‘super()’ function in Python?\n",
        "\n",
        "      - The super() function in Python is used to call methods from a parent (or superclass) in a class hierarchy. It is commonly used in inheritance to ensure that the parent class's methods are properly initialized or extended.\n",
        "\n",
        " 21. What is the significance of the __del__ method in Python?\n",
        "    \n",
        "     - The __del__() method in Python is a destructor method. It is called automatically when an object is about to be destroyed, i.e., when it is garbage collected.\n",
        "\n",
        "\n",
        "\n",
        " 22. What is the difference between @staticmethod and @classmethod in Python?\n",
        "\n",
        "     - Both @staticmethod and @classmethod are decorators used to define special methods in a class that are not instance methods.\n",
        "\n",
        "     - @staticmethod :\n",
        "         - Does NOT take self or cls as the first parameter.\n",
        "\n",
        "         - Works like a regular function, just inside a class's namespace.\n",
        "\n",
        "         - Cannot access or modify class or instance variables.\n",
        "\n",
        "  - @classmethod :\n",
        "        - Takes cls as the first parameter.\n",
        "\n",
        "        - Can access or modify class variables.\n",
        "\n",
        "        - Often used for factory methods that create instances in a different way.\n",
        "\n",
        " 23. How does polymorphism work in Python with inheritance?\n",
        "\n",
        "     Polymorphism in Python (and in OOP in general) means \"many forms\". It allows objects of different classes to be treated as instances of the same class through inheritance, particularly when they share the same method names.\n",
        "        - When a subclass overrides a method from its parent class, and you call that method using a parent-class reference, Python uses the actual object type (not the reference type) to determine which method to run.\n",
        "        This is called **runtime polymorphism.**\n",
        "\n",
        " 24. What is method chaining in Python OOP?\n",
        "     \n",
        "     Method Chaining in Python refers to the technique of calling multiple methods on the same object in a single line, by ensuring each method returns the object itself (self).\n",
        "\n",
        " 25. What is the purpose of the __call__ method in Python?\n",
        "\n",
        "     The __call__ method in Python allows an instance of a class to be called as a function.\n",
        "     \n",
        "        - In simple terms, if a class has a __call__() method defined, then you can use its object like a function — using parentheses () after the object.\n",
        "\n"
      ],
      "metadata": {
        "id": "jv_l4d1GKJLH"
      }
    },
    {
      "cell_type": "markdown",
      "source": [
        "***PRACTICAL QUESTIONS***"
      ],
      "metadata": {
        "id": "y4yUtX6WdGGM"
      }
    },
    {
      "cell_type": "markdown",
      "source": [
        "1. Create a parent class Animal with a method speak() that prints a generic message. Create a child class Dog that overrides the speak() method to print \"Bark!\""
      ],
      "metadata": {
        "id": "uKPpBNyYfgMN"
      }
    },
    {
      "cell_type": "code",
      "source": [
        "class Animal:\n",
        "  def speak(Self):\n",
        "    print(\"Generic Animal Sound\")\n",
        "\n",
        "class Dog(Animal):\n",
        "  def speak(self):\n",
        "    print(\"Bark\")\n",
        "\n",
        "animal=Animal()\n",
        "animal.speak()\n",
        "\n",
        "dog=Dog()\n",
        "dog.speak()"
      ],
      "metadata": {
        "colab": {
          "base_uri": "https://localhost:8080/"
        },
        "id": "X_HkXhz2crq_",
        "outputId": "b6d18f80-1e11-48a6-b673-1e6217fa77fd"
      },
      "execution_count": 4,
      "outputs": [
        {
          "output_type": "stream",
          "name": "stdout",
          "text": [
            "Generic Animal Sound\n",
            "Bark\n"
          ]
        }
      ]
    },
    {
      "cell_type": "markdown",
      "source": [
        "2. Write a program to create an abstract class Shape with a method area(). Derive classes Circle and Rectangle\n",
        "from it and implement the area() method in both."
      ],
      "metadata": {
        "id": "vjr3EvJyfqhW"
      }
    },
    {
      "cell_type": "code",
      "source": [
        "class Shape:\n",
        "  def area(self):\n",
        "    pass\n",
        "\n",
        "class Circle(Shape):\n",
        "  def area(self,radius):\n",
        "    return 3.14*radius**2\n",
        "\n",
        "class Rectangle(Shape):\n",
        "  def area(self,length,width):\n",
        "    return length*width\n",
        "\n",
        "circle=Circle()\n",
        "circle.area(10)\n",
        "print(\"Area of Circle with radius given is : \",circle.area(10))\n",
        "\n",
        "rectangle=Rectangle()\n",
        "rectangle.area(10,20)\n",
        "print(\"Area of Rectangle with given length and breadth is : \",rectangle.area(10,20))\n"
      ],
      "metadata": {
        "colab": {
          "base_uri": "https://localhost:8080/"
        },
        "id": "JUcBAVd5crs0",
        "outputId": "6212364b-6e20-41b1-89a4-92e1176abc00"
      },
      "execution_count": 9,
      "outputs": [
        {
          "output_type": "stream",
          "name": "stdout",
          "text": [
            "Area of Circle with radius given is :  314.0\n",
            "Area of Rectangle with given length and breadth is :  200\n"
          ]
        }
      ]
    },
    {
      "cell_type": "markdown",
      "source": [
        " 3. Implement a multi-level inheritance scenario where a class Vehicle has an attribute type. Derive a class Car\n",
        "and further derive a class ElectricCar that adds a battery attribute.\n"
      ],
      "metadata": {
        "id": "Ei5KKOENhkvY"
      }
    },
    {
      "cell_type": "code",
      "source": [
        "class Vehicle:\n",
        "    def __init__(self):\n",
        "        self.type = \"Vehicle\"\n",
        "\n",
        "class Car(Vehicle):\n",
        "    def __init__(self):\n",
        "        super().__init__()\n",
        "        self.name = \"Car\"\n",
        "\n",
        "class ElectricCar(Car):\n",
        "    def __init__(self):\n",
        "        super().__init__()\n",
        "        self.battery = \"100 kWh\"\n",
        "\n",
        "e_car = ElectricCar()\n",
        "\n",
        "print(\"Type:\", e_car.type)\n",
        "print(\"Name:\", e_car.name)\n",
        "print(\"Battery:\", e_car.battery)"
      ],
      "metadata": {
        "colab": {
          "base_uri": "https://localhost:8080/"
        },
        "id": "m5ERIfsyhLUm",
        "outputId": "d9fef642-0757-4a27-aa40-9ebdbb5921d2"
      },
      "execution_count": 12,
      "outputs": [
        {
          "output_type": "stream",
          "name": "stdout",
          "text": [
            "Type: Vehicle\n",
            "Name: Car\n",
            "Battery: 100 kWh\n"
          ]
        }
      ]
    },
    {
      "cell_type": "markdown",
      "source": [
        "4. Demonstrate polymorphism by creating a base class Bird with a method fly(). Create two derived classes\n",
        "Sparrow and Penguin that override the fly() method."
      ],
      "metadata": {
        "id": "mfTB6fE-iw_b"
      }
    },
    {
      "cell_type": "code",
      "source": [
        "class Bird:\n",
        "    def fly(self):\n",
        "        print(\"Only few birds can fly\")\n",
        "\n",
        "class Sparrow(Bird):\n",
        "    def fly(self):\n",
        "        print(\"Sparrow  can fly\")\n",
        "\n",
        "class Penguin(Bird):\n",
        "    def fly(self):\n",
        "        print(\"Penguin  cannot fly\")\n",
        "\n",
        "bird1=Sparrow()\n",
        "bird1.fly()\n",
        "\n",
        "bird2=Penguin()\n",
        "bird2.fly()\n"
      ],
      "metadata": {
        "colab": {
          "base_uri": "https://localhost:8080/"
        },
        "id": "cE6_hA4ciRVF",
        "outputId": "986edbdd-41be-41a7-ddde-29d95a913f89"
      },
      "execution_count": 14,
      "outputs": [
        {
          "output_type": "stream",
          "name": "stdout",
          "text": [
            "Sparrow  can fly\n",
            "Penguin  cannot fly\n"
          ]
        }
      ]
    },
    {
      "cell_type": "markdown",
      "source": [
        "5. Write a program to demonstrate encapsulation by creating a class BankAccount with private attributes\n",
        "balance and methods to deposit, withdraw, and check balance"
      ],
      "metadata": {
        "id": "yyTx0ki7jO2V"
      }
    },
    {
      "cell_type": "code",
      "source": [
        "class BankAccount:\n",
        "  def __init__(self,balance):\n",
        "    self.__balance=balance\n",
        "\n",
        "  def deposit(self,amount):\n",
        "    self.__balance+=amount\n",
        "\n",
        "  def withdraw(self,amount):\n",
        "    if self.__balance>=amount:\n",
        "      self.__balance-=amount\n",
        "    else:\n",
        "      print(\"Insufficient Balance\")\n",
        "\n",
        "\n",
        "  def check_balance(self):\n",
        "    return self.__balance\n",
        "\n",
        "account=BankAccount(1000)\n",
        "account.deposit(500)\n",
        "print(\"The current balance is : \",account.check_balance())\n",
        "account.withdraw(200)\n",
        "print(\"The current balance is : \",account.check_balance())\n",
        "account.withdraw(2000)\n",
        "print(\"The current balance is : \",account.check_balance())\n",
        "\n",
        "\n",
        "\n"
      ],
      "metadata": {
        "colab": {
          "base_uri": "https://localhost:8080/"
        },
        "id": "wDERj3v8jAgh",
        "outputId": "b2dd60cb-09a5-4e63-d66b-dcafc4fc75dc"
      },
      "execution_count": 45,
      "outputs": [
        {
          "output_type": "stream",
          "name": "stdout",
          "text": [
            "The current balance is :  1500\n",
            "The current balance is :  1300\n",
            "Insufficient Balance\n",
            "The current balance is :  1300\n"
          ]
        }
      ]
    },
    {
      "cell_type": "markdown",
      "source": [
        " 6. Demonstrate runtime polymorphism using a method play() in a base class Instrument. Derive classes Guitar\n",
        "and Piano that implement their own version of play()"
      ],
      "metadata": {
        "id": "SWE-FLNajPLT"
      }
    },
    {
      "cell_type": "code",
      "source": [
        "class Instrument:\n",
        "  def play(self):\n",
        "    pass\n",
        "\n",
        "class Guitar(Instrument):\n",
        "  def play(self):\n",
        "    print(\"Guitar is playing\")\n",
        "\n",
        "class Piano(Instrument):\n",
        "  def play(self):\n",
        "    print(\"Piano is playing\")\n",
        "\n",
        "guitar=Guitar()\n",
        "guitar.play()\n",
        "\n",
        "piano=Piano()\n",
        "piano.play()"
      ],
      "metadata": {
        "colab": {
          "base_uri": "https://localhost:8080/"
        },
        "id": "PmgWHUMbjahg",
        "outputId": "08c4fc40-d501-48c4-e9d7-7d084705a2c9"
      },
      "execution_count": 46,
      "outputs": [
        {
          "output_type": "stream",
          "name": "stdout",
          "text": [
            "Guitar is playing\n",
            "Piano is playing\n"
          ]
        }
      ]
    },
    {
      "cell_type": "markdown",
      "source": [
        " 7. Create a class MathOperations with a class method add_numbers() to add two numbers and a static\n",
        "method subtract_numbers() to subtract two numbers"
      ],
      "metadata": {
        "id": "gLiiezUJjPc_"
      }
    },
    {
      "cell_type": "code",
      "source": [
        "class MathOperations:\n",
        "  def add_numbers(self,a,b):\n",
        "    return a+b\n",
        "\n",
        "  @staticmethod\n",
        "  def subtract_numbers(a,b):\n",
        "    return a-b\n",
        "\n",
        "math=MathOperations()\n",
        "math.add_numbers(10,20)\n",
        "math.subtract_numbers(30,20)\n",
        "print(\"The sum of two numbers is : \",math.add_numbers(10,20))\n",
        "print(\"The difference of two numbers is : \",math.subtract_numbers(30,20))"
      ],
      "metadata": {
        "colab": {
          "base_uri": "https://localhost:8080/"
        },
        "id": "Nmf0kijLjbZC",
        "outputId": "cb6eec61-b8cc-4d91-8a7b-2b2ddba30635"
      },
      "execution_count": 41,
      "outputs": [
        {
          "output_type": "stream",
          "name": "stdout",
          "text": [
            "The sum of two numbers is :  30\n",
            "The difference of two numbers is :  10\n"
          ]
        }
      ]
    },
    {
      "cell_type": "markdown",
      "source": [
        "8. Implement a class Person with a class method to count the total number of persons created"
      ],
      "metadata": {
        "id": "VfK5Lwr4jPeb"
      }
    },
    {
      "cell_type": "code",
      "source": [
        "class Person:\n",
        "  count=0\n",
        "  def __init__(self,name,age):\n",
        "    self.name=name\n",
        "    self.age=age\n",
        "    Person.count+=1\n",
        "\n",
        "person=Person(\"Kiran\",30)\n",
        "print(\"The total number of persons created is : \",Person.count)"
      ],
      "metadata": {
        "colab": {
          "base_uri": "https://localhost:8080/"
        },
        "id": "FM_3CJOIjb3U",
        "outputId": "ee8c5be2-738c-4197-a0d4-da40148571e8"
      },
      "execution_count": 37,
      "outputs": [
        {
          "output_type": "stream",
          "name": "stdout",
          "text": [
            "The total number of persons created is :  1\n"
          ]
        }
      ]
    },
    {
      "cell_type": "markdown",
      "source": [
        " 9. Write a class Fraction with attributes numerator and denominator. Override the str method to display the\n",
        "fraction as \"numerator/denominator\""
      ],
      "metadata": {
        "id": "2B0erqvAjPr4"
      }
    },
    {
      "cell_type": "code",
      "source": [
        "class Fraction:\n",
        "  def __init__(self,numerator,denominator):\n",
        "    self.numerator=numerator\n",
        "    self.denominator=denominator\n",
        "\n",
        "  def __str__(self):\n",
        "    return f\"{self.numerator}/{self.denominator}\"\n",
        "\n",
        "fraction=Fraction(10,20)\n",
        "print(fraction)"
      ],
      "metadata": {
        "colab": {
          "base_uri": "https://localhost:8080/"
        },
        "id": "TAdE3Z_Qjchr",
        "outputId": "519020f9-7a46-4dcb-d686-d2c1188b70cc"
      },
      "execution_count": 35,
      "outputs": [
        {
          "output_type": "stream",
          "name": "stdout",
          "text": [
            "10/20\n"
          ]
        }
      ]
    },
    {
      "cell_type": "markdown",
      "source": [
        " 10. Demonstrate operator overloading by creating a class Vector and overriding the add method to add two\n",
        "vectors."
      ],
      "metadata": {
        "id": "rCYxT1aejPvf"
      }
    },
    {
      "cell_type": "code",
      "source": [
        "class Vector:\n",
        "  def __init__(self,x,y):\n",
        "    self.x=x\n",
        "    self.y=y\n",
        "\n",
        "  def __add__(self,other):\n",
        "    return Vector(self.x+other.x,self.y+other.y)\n",
        "  def __str__(self):\n",
        "        return f\"Vector({self.x}, {self.y})\"\n",
        "\n",
        "\n",
        "vector1=Vector(10,20)\n",
        "vector2=Vector(30,40)\n",
        "result=vector1+vector2\n",
        "print(result)"
      ],
      "metadata": {
        "colab": {
          "base_uri": "https://localhost:8080/"
        },
        "id": "tzKnsHI5jcgS",
        "outputId": "2c8d68c7-0476-431c-b8f9-4b33d612638b"
      },
      "execution_count": 34,
      "outputs": [
        {
          "output_type": "stream",
          "name": "stdout",
          "text": [
            "Vector(40, 60)\n"
          ]
        }
      ]
    },
    {
      "cell_type": "markdown",
      "source": [
        " 11. Create a class Person with attributes name and age. Add a method greet() that prints \"Hello, my name is\n",
        "{name} and I am {age} years old.\""
      ],
      "metadata": {
        "id": "P9kg5_9RjPxk"
      }
    },
    {
      "cell_type": "code",
      "source": [
        "class Person:\n",
        "  def __init__(self,name,age):\n",
        "    self.name=name\n",
        "    self.age=age\n",
        "\n",
        "  def greet(self):\n",
        "    print(f\"Hello, my name is {self.name} and I am {self.age} years old.\")\n",
        "\n",
        "person=Person(\"Kiran\",30)\n",
        "person.greet()"
      ],
      "metadata": {
        "colab": {
          "base_uri": "https://localhost:8080/"
        },
        "id": "xwsYtQsYjul6",
        "outputId": "81959b64-a772-4587-854a-20c6071ef759"
      },
      "execution_count": 32,
      "outputs": [
        {
          "output_type": "stream",
          "name": "stdout",
          "text": [
            "Hello, my name is Kiran and I am 30 years old.\n"
          ]
        }
      ]
    },
    {
      "cell_type": "markdown",
      "source": [
        " 12. Implement a class Student with attributes name and grades. Create a method average_grade() to compute\n",
        "the average of the grades"
      ],
      "metadata": {
        "id": "uwFUi0zyjPz9"
      }
    },
    {
      "cell_type": "code",
      "source": [
        "class Student:\n",
        "  def __init__(self,name,grades):\n",
        "    self.name=name\n",
        "    self.grades=grades\n",
        "\n",
        "  def average_grade(self):\n",
        "    return sum(self.grades)/len(self.grades)\n",
        "\n",
        "student=Student(\"Kiran\",[10,20,30,40])\n",
        "print(\"The average grade of the student is : \",student.average_grade())"
      ],
      "metadata": {
        "colab": {
          "base_uri": "https://localhost:8080/"
        },
        "id": "xnZnRpPmjvbC",
        "outputId": "c6f3e4ba-4dcb-4fb4-c84c-14696184182e"
      },
      "execution_count": 31,
      "outputs": [
        {
          "output_type": "stream",
          "name": "stdout",
          "text": [
            "The average grade of the student is :  25.0\n"
          ]
        }
      ]
    },
    {
      "cell_type": "markdown",
      "source": [
        " 13. Create a class Rectangle with methods set_dimensions() to set the dimensions and area() to calculate the\n",
        "area"
      ],
      "metadata": {
        "id": "CnYXhzF-jP6z"
      }
    },
    {
      "cell_type": "code",
      "source": [
        "class Rectangle:\n",
        "  def __init__(self,length,width):\n",
        "    self.length=length\n",
        "    self.width=width\n",
        "\n",
        "  def set_dimensions(self,length,width):\n",
        "    self.length=length\n",
        "    self.width=width\n",
        "\n",
        "rectangle=Rectangle(10,20)\n",
        "print(\"The area of the rectangle is : \",rectangle.length*rectangle.width)"
      ],
      "metadata": {
        "colab": {
          "base_uri": "https://localhost:8080/"
        },
        "id": "lhbryqNKkAAI",
        "outputId": "98e22301-dacf-42fe-bf4e-d6106243fa5a"
      },
      "execution_count": 30,
      "outputs": [
        {
          "output_type": "stream",
          "name": "stdout",
          "text": [
            "The area of the rectangle is :  200\n"
          ]
        }
      ]
    },
    {
      "cell_type": "markdown",
      "source": [
        " 14. Create a class Employee with a method calculate_salary() that computes the salary based on hours worked\n",
        "and hourly rate. Create a derived class Manager that adds a bonus to the salary."
      ],
      "metadata": {
        "id": "m6aLDxn3jw_R"
      }
    },
    {
      "cell_type": "code",
      "source": [
        "class Employee:\n",
        "  def __init__(self,name,hours_worked,hourly_rate):\n",
        "    self.name=name\n",
        "    self.hours_worked=hours_worked\n",
        "    self.hourly_rate=hourly_rate\n",
        "\n",
        "  def calculate_salary(self):\n",
        "    return self.hours_worked*self.hourly_rate\n",
        "\n",
        "class Manager(Employee):\n",
        "  def __init__(self,name,hours_worked,hourly_rate,bonus):\n",
        "    super().__init__(name,hours_worked,hourly_rate)\n",
        "    self.bonus=bonus\n",
        "\n",
        "  def calculate_salary(self):\n",
        "    salary=super().calculate_salary()\n",
        "    return salary+self.bonus\n",
        "\n",
        "employee=Employee(\"Kiran\",40,2000)\n",
        "print(\"The salary of the employee is : \",employee.calculate_salary())"
      ],
      "metadata": {
        "colab": {
          "base_uri": "https://localhost:8080/"
        },
        "id": "LFQc3OKAj_hb",
        "outputId": "4f4a817b-adb0-4de5-eefb-3cdd62c77c84"
      },
      "execution_count": 29,
      "outputs": [
        {
          "output_type": "stream",
          "name": "stdout",
          "text": [
            "The salary of the employee is :  80000\n"
          ]
        }
      ]
    },
    {
      "cell_type": "markdown",
      "source": [
        "15. Create a class Product with attributes name, price, and quantity. Implement a method total_price() that\n",
        "calculates the total price of the product"
      ],
      "metadata": {
        "id": "tJYm9KdpjQPz"
      }
    },
    {
      "cell_type": "code",
      "source": [
        "class Product:\n",
        "  def __init__(self,name,price,quantity):\n",
        "    self.name=name\n",
        "    self.price=price\n",
        "    self.quantity=quantity\n",
        "\n",
        "  def total_price(self):\n",
        "    return self.price*self.quantity\n",
        "\n",
        "price=Product(\"Mobile\",30000,15)\n",
        "print(\"The total price of the product is : \",price.total_price())"
      ],
      "metadata": {
        "colab": {
          "base_uri": "https://localhost:8080/"
        },
        "id": "-IZAeLvXj-ru",
        "outputId": "66f6434e-e975-49b2-b8be-53107242fa65"
      },
      "execution_count": 28,
      "outputs": [
        {
          "output_type": "stream",
          "name": "stdout",
          "text": [
            "The total price of the product is :  450000\n"
          ]
        }
      ]
    },
    {
      "cell_type": "markdown",
      "source": [
        " 16. Create a class Animal with an abstract method sound(). Create two derived classes Cow and Sheep that\n",
        "implement the sound() method"
      ],
      "metadata": {
        "id": "q92ENPesjQSC"
      }
    },
    {
      "cell_type": "code",
      "source": [
        "class Animal:\n",
        "  def sound(self):\n",
        "    pass\n",
        "\n",
        "class Cow(Animal):\n",
        "  def sound(self):\n",
        "    return \"moows\"\n",
        "\n",
        "class Sheep(Animal):\n",
        "  def sound(self):\n",
        "    return \"bleats\"\n",
        "\n",
        "cow=Cow()\n",
        "print(\"The cow \",cow.sound())\n",
        "\n",
        "sheep=Sheep()\n",
        "print(\"The sheep\" , sheep.sound())"
      ],
      "metadata": {
        "colab": {
          "base_uri": "https://localhost:8080/"
        },
        "id": "3RW2Yzsrj97a",
        "outputId": "7e5ccd00-264d-4f9a-bcfe-677ebbed93c5"
      },
      "execution_count": 24,
      "outputs": [
        {
          "output_type": "stream",
          "name": "stdout",
          "text": [
            "The cow  moows\n",
            "The sheep bleats\n"
          ]
        }
      ]
    },
    {
      "cell_type": "markdown",
      "source": [
        " 17. Create a class Book with attributes title, author, and year_published. Add a method get_book_info() that\n",
        "returns a formatted string with the book's details"
      ],
      "metadata": {
        "id": "nRgVdEvVjr35"
      }
    },
    {
      "cell_type": "code",
      "source": [
        "class Book:\n",
        "  def __init__(self,title,author,year_published):\n",
        "    self.title=title\n",
        "    self.author=author\n",
        "    self.year_published=year_published\n",
        "\n",
        "  def get_book_info(self):\n",
        "    return f\"Title : {self.title} \\nAuthor : {self.author} \\nYear Published : {self.year_published}\"\n",
        "\n",
        "\n",
        "book=Book(\"Data Science\",\"Kiran Kumar B S\",2024)\n",
        "print(book.get_book_info())"
      ],
      "metadata": {
        "colab": {
          "base_uri": "https://localhost:8080/"
        },
        "id": "f4kWYNDoj9bi",
        "outputId": "5b9807d1-a58a-43a6-f85e-8c5a4ff52ff8"
      },
      "execution_count": 22,
      "outputs": [
        {
          "output_type": "stream",
          "name": "stdout",
          "text": [
            "Title : Data Science \n",
            "Author : Kiran Kumar B S \n",
            "Year Published : 2024\n"
          ]
        }
      ]
    },
    {
      "cell_type": "markdown",
      "source": [
        " 18. Create a class House with attributes address and price. Create a derived class Mansion that adds an\n",
        "attribute number_of_rooms"
      ],
      "metadata": {
        "id": "Oib0G0BRjryJ"
      }
    },
    {
      "cell_type": "code",
      "source": [
        "class House:\n",
        "  def __init__(self,address,price):\n",
        "    self.address=address\n",
        "    self.price=price\n",
        "\n",
        "class Mansion(House):\n",
        "  def __init__(self,address,price,number_of_rooms):\n",
        "    super().__init__(address,price)\n",
        "    self.number_of_rooms=number_of_rooms\n",
        "\n",
        "house=Mansion(\"address\",100000,10)\n",
        "print(\"The adress of the house is : \",house.address)\n",
        "print(\"The price of the mansion is :\",house.price)\n",
        "print(\"The number of rooms in the mansion is :\" ,house.number_of_rooms)\n"
      ],
      "metadata": {
        "colab": {
          "base_uri": "https://localhost:8080/"
        },
        "id": "y0TtFnmIj83A",
        "outputId": "0a16e96c-5048-499d-f756-6b5d60f3cadf"
      },
      "execution_count": 21,
      "outputs": [
        {
          "output_type": "stream",
          "name": "stdout",
          "text": [
            "The adress of the house is :  address\n",
            "The price of the mansion is : 100000\n",
            "The number of rooms in the mansion is : 10\n"
          ]
        }
      ]
    },
    {
      "cell_type": "code",
      "source": [],
      "metadata": {
        "id": "KWNc34MgklOn"
      },
      "execution_count": null,
      "outputs": []
    }
  ]
}